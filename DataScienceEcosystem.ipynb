{
 "cells": [
  {
   "cell_type": "markdown",
   "id": "774b6b67",
   "metadata": {},
   "source": [
    "# Data Science Tools and Ecosystem"
   ]
  },
  {
   "cell_type": "markdown",
   "id": "ed4358e8",
   "metadata": {},
   "source": [
    "#### In this notebook Data Science Tools and Ecosystem are Summarised."
   ]
  },
  {
   "cell_type": "markdown",
   "id": "44ba0924",
   "metadata": {},
   "source": [
    "**Objectives:**\n",
    "\n",
    "- List popular languages that Data Scientists use.\n",
    "- List commonly used libraries used by Data Scientists.\n",
    "- Comment on Data Science tools."
   ]
  },
  {
   "cell_type": "markdown",
   "id": "97f0a587",
   "metadata": {},
   "source": [
    "#### Some of popular Languagues used in Data Science are:\n",
    "1. C++\n",
    "2. Matlab\n",
    "3. Python\n",
    "4. R\n",
    "5. Scala\n",
    "6. Java\n",
    "7. SQL"
   ]
  },
  {
   "cell_type": "code",
   "execution_count": null,
   "id": "c7fa4a98",
   "metadata": {},
   "outputs": [],
   "source": []
  },
  {
   "cell_type": "markdown",
   "id": "c90e6a0b",
   "metadata": {},
   "source": [
    "#### Some of libraries used in Data Science are:\n",
    "1. Numpy\n",
    "2. Scipy\n",
    "3. Panda\n",
    "4. MatplotLib\n",
    "5. Seaborn"
   ]
  },
  {
   "cell_type": "code",
   "execution_count": null,
   "id": "8fc66b8c",
   "metadata": {},
   "outputs": [],
   "source": []
  },
  {
   "cell_type": "markdown",
   "id": "86ab24ff",
   "metadata": {},
   "source": [
    "|Tools in DS|\n",
    "|-----------|\n",
    "| Apache Spark |\n",
    "| Matplotlib |\n",
    "| Python|\n",
    "| Pytorch|"
   ]
  },
  {
   "cell_type": "markdown",
   "id": "21a595d9",
   "metadata": {},
   "source": [
    "### Below are a few examples of evaluating arithmetic expressions in Python"
   ]
  },
  {
   "cell_type": "code",
   "execution_count": 1,
   "id": "9f732644",
   "metadata": {
    "ExecuteTime": {
     "end_time": "2023-06-13T05:43:20.320549Z",
     "start_time": "2023-06-13T05:43:20.296074Z"
    }
   },
   "outputs": [
    {
     "data": {
      "text/plain": [
       "17"
      ]
     },
     "execution_count": 1,
     "metadata": {},
     "output_type": "execute_result"
    }
   ],
   "source": [
    "#This a simple arithmetic expression to mutiply then add integers\n",
    "(3*4)+5"
   ]
  },
  {
   "cell_type": "code",
   "execution_count": 5,
   "id": "8cf67fb6",
   "metadata": {
    "ExecuteTime": {
     "end_time": "2023-06-13T05:46:25.353717Z",
     "start_time": "2023-06-13T05:46:25.343712Z"
    }
   },
   "outputs": [
    {
     "data": {
      "text/plain": [
       "3.3333333333333335"
      ]
     },
     "execution_count": 5,
     "metadata": {},
     "output_type": "execute_result"
    }
   ],
   "source": [
    "#Converting hours to minutes by dividing 200 with 60\n",
    "hrs=(200/60)\n",
    "hrs"
   ]
  },
  {
   "cell_type": "markdown",
   "id": "d445b2c3",
   "metadata": {},
   "source": [
    "## Author\n",
    "Swapna"
   ]
  },
  {
   "cell_type": "code",
   "execution_count": null,
   "id": "12553846",
   "metadata": {},
   "outputs": [],
   "source": []
  }
 ],
 "metadata": {
  "kernelspec": {
   "display_name": "Python 3 (ipykernel)",
   "language": "python",
   "name": "python3"
  },
  "language_info": {
   "codemirror_mode": {
    "name": "ipython",
    "version": 3
   },
   "file_extension": ".py",
   "mimetype": "text/x-python",
   "name": "python",
   "nbconvert_exporter": "python",
   "pygments_lexer": "ipython3",
   "version": "3.10.9"
  }
 },
 "nbformat": 4,
 "nbformat_minor": 5
}
